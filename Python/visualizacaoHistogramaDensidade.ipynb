{
 "cells": [
  {
   "cell_type": "code",

   "id": "f957186d",
   "metadata": {},
   "outputs": [],
   "source": [
    "import pandas as pd\n",
    "import seaborn as srn\n",
    "import matplotlib.pyplot as plt"
   ]
  },
  {
   "cell_type": "code",

   "id": "da5e54ce",
   "metadata": {},
   "outputs": [
    {
     "data": {
      "text/html": [
       "<div>\n",
       "<style scoped>\n",
       "    .dataframe tbody tr th:only-of-type {\n",
       "        vertical-align: middle;\n",
       "    }\n",
       "\n",
       "    .dataframe tbody tr th {\n",
       "        vertical-align: top;\n",
       "    }\n",
       "\n",
       "    .dataframe thead th {\n",
       "        text-align: right;\n",
       "    }\n",
       "</style>\n",
       "<table border=\"1\" class=\"dataframe\">\n",
       "  <thead>\n",
       "    <tr style=\"text-align: right;\">\n",
       "      <th></th>\n",
       "      <th>Girth</th>\n",
       "      <th>Height</th>\n",
       "      <th>Volume</th>\n",
       "    </tr>\n",
       "  </thead>\n",
       "  <tbody>\n",
       "    <tr>\n",
       "      <th>0</th>\n",
       "      <td>8.3</td>\n",
       "      <td>70</td>\n",
       "      <td>10.3</td>\n",
       "    </tr>\n",
       "    <tr>\n",
       "      <th>1</th>\n",
       "      <td>8.6</td>\n",
       "      <td>65</td>\n",
       "      <td>10.3</td>\n",
       "    </tr>\n",
       "    <tr>\n",
       "      <th>2</th>\n",
       "      <td>8.8</td>\n",
       "      <td>63</td>\n",
       "      <td>10.2</td>\n",
       "    </tr>\n",
       "    <tr>\n",
       "      <th>3</th>\n",
       "      <td>10.5</td>\n",
       "      <td>72</td>\n",
       "      <td>16.4</td>\n",
       "    </tr>\n",
       "    <tr>\n",
       "      <th>4</th>\n",
       "      <td>10.7</td>\n",
       "      <td>81</td>\n",
       "      <td>18.8</td>\n",
       "    </tr>\n",
       "  </tbody>\n",
       "</table>\n",
       "</div>"
      ],
      "text/plain": [
       "   Girth  Height  Volume\n",
       "0    8.3      70    10.3\n",
       "1    8.6      65    10.3\n",
       "2    8.8      63    10.2\n",
       "3   10.5      72    16.4\n",
       "4   10.7      81    18.8"
      ]
     },

     "metadata": {},
     "output_type": "execute_result"
    }
   ],
   "source": [
    "dados = pd.read_csv('trees.csv')\n",
    "dados.head()"
   ]
  },
  {
   "cell_type": "code",

   "id": "0dac3e42",
   "metadata": {},
   "outputs": [
    {
     "data": {
      "text/plain": [
       "Text(0.5, 1.0, 'Árvores')"
      ]
     },

     "metadata": {},
     "output_type": "execute_result"
    },
    {
     "data": {
      "image/png": "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",
      "text/plain": [
       "<Figure size 640x480 with 1 Axes>"
      ]
     },
     "metadata": {},
     "output_type": "display_data"
    }
   ],
   "source": [
    "## histograma com 10 divisoes(bins)e com gráfico de densidade (kernel density - suavização)\n",
    "## stat: count, frequency, probability, percent, density\n",
    "\n",
    "srn.histplot(dados.Volume, bins=10, kde=True, stat='percent').set_title(\"Árvores\")"
   ]
  },
  {
   "cell_type": "code",

   "id": "9eed2533",
   "metadata": {},
   "outputs": [
    {
     "data": {
      "text/html": [
       "<div>\n",
       "<style scoped>\n",
       "    .dataframe tbody tr th:only-of-type {\n",
       "        vertical-align: middle;\n",
       "    }\n",
       "\n",
       "    .dataframe tbody tr th {\n",
       "        vertical-align: top;\n",
       "    }\n",
       "\n",
       "    .dataframe thead th {\n",
       "        text-align: right;\n",
       "    }\n",
       "</style>\n",
       "<table border=\"1\" class=\"dataframe\">\n",
       "  <thead>\n",
       "    <tr style=\"text-align: right;\">\n",
       "      <th></th>\n",
       "      <th>weight</th>\n",
       "      <th>feed</th>\n",
       "    </tr>\n",
       "  </thead>\n",
       "  <tbody>\n",
       "    <tr>\n",
       "      <th>0</th>\n",
       "      <td>179</td>\n",
       "      <td>horsebean</td>\n",
       "    </tr>\n",
       "    <tr>\n",
       "      <th>1</th>\n",
       "      <td>160</td>\n",
       "      <td>horsebean</td>\n",
       "    </tr>\n",
       "    <tr>\n",
       "      <th>2</th>\n",
       "      <td>136</td>\n",
       "      <td>horsebean</td>\n",
       "    </tr>\n",
       "    <tr>\n",
       "      <th>3</th>\n",
       "      <td>227</td>\n",
       "      <td>horsebean</td>\n",
       "    </tr>\n",
       "    <tr>\n",
       "      <th>4</th>\n",
       "      <td>217</td>\n",
       "      <td>horsebean</td>\n",
       "    </tr>\n",

     "metadata": {},
     "output_type": "execute_result"
    }
   ],
   "source": [
    "dadosChicken = pd.read_csv('chicken.csv')\n",

   ]
  },
  {
   "cell_type": "code",

   "id": "97df6a3e",
   "metadata": {},
   "outputs": [
    {
     "data": {
      "text/plain": [
       "feed\n",
       "casein       3883\n",

       "linseed      2625\n",
       "meatmeal     3046\n",
       "soybean      3450\n",
       "sunflower    3947\n",
       "Name: weight, dtype: int64"
      ]
     },

     "metadata": {},
     "output_type": "execute_result"
    }
   ],
   "source": [
    "agruparFeed = dadosChicken.groupby(['feed'])['weight'].sum()\n",
    "agruparFeed"
   ]
  },
  {
   "cell_type": "code",

   "id": "019a3087",
   "metadata": {},
   "outputs": [
    {
     "data": {
      "text/html": [
       "<div>\n",
       "<style scoped>\n",
       "    .dataframe tbody tr th:only-of-type {\n",
       "        vertical-align: middle;\n",
       "    }\n",
       "\n",
       "    .dataframe tbody tr th {\n",
       "        vertical-align: top;\n",
       "    }\n",
       "\n",
       "    .dataframe thead th {\n",
       "        text-align: right;\n",
       "    }\n",
       "</style>\n",
       "<table border=\"1\" class=\"dataframe\">\n",
       "  <thead>\n",
       "    <tr style=\"text-align: right;\">\n",
       "      <th></th>\n",
       "      <th>weight</th>\n",
       "      <th>feed</th>\n",
       "    </tr>\n",
       "  </thead>\n",
       "  <tbody>\n",
       "    <tr>\n",
       "      <th>0</th>\n",
       "      <td>179</td>\n",
       "      <td>horsebean</td>\n",
       "    </tr>\n",
       "    <tr>\n",
       "      <th>1</th>\n",
       "      <td>160</td>\n",
       "      <td>horsebean</td>\n",
       "    </tr>\n",
       "    <tr>\n",
       "      <th>2</th>\n",
       "      <td>136</td>\n",
       "      <td>horsebean</td>\n",
       "    </tr>\n",
       "    <tr>\n",
       "      <th>3</th>\n",
       "      <td>227</td>\n",
       "      <td>horsebean</td>\n",
       "    </tr>\n",
       "    <tr>\n",
       "      <th>4</th>\n",
       "      <td>217</td>\n",
       "      <td>horsebean</td>\n",
       "    </tr>\n",
       "    <tr>\n",
       "      <th>5</th>\n",
       "      <td>168</td>\n",
       "      <td>horsebean</td>\n",
       "    </tr>\n",
       "    <tr>\n",
       "      <th>6</th>\n",
       "      <td>108</td>\n",
       "      <td>horsebean</td>\n",
       "    </tr>\n",
       "    <tr>\n",
       "      <th>7</th>\n",
       "      <td>124</td>\n",
       "      <td>horsebean</td>\n",
       "    </tr>\n",
       "    <tr>\n",
       "      <th>8</th>\n",
       "      <td>143</td>\n",
       "      <td>horsebean</td>\n",
       "    </tr>\n",
       "    <tr>\n",
       "      <th>9</th>\n",
       "      <td>140</td>\n",
       "      <td>horsebean</td>\n",
       "    </tr>\n",

       "  </tbody>\n",
       "</table>\n",
       "</div>"
      ],
      "text/plain": [

     "metadata": {},
     "output_type": "execute_result"
    }
   ],
   "source": [
    "##Novo dataframe para filtrar somente os dados do pandas\n",
    "horsebean_var = dadosChicken.loc[dadosChicken['feed'] == 'horsebean']\n",
    "horsebean_var"
   ]
  },
  {
   "cell_type": "code",
   "execution_count": 34,
   "id": "d9cda2ac",
   "metadata": {},
   "outputs": [
    {
     "data": {
      "text/plain": [
       "<Axes: ylabel='Density'>"
      ]
     },
     "execution_count": 34,
     "metadata": {},
     "output_type": "execute_result"
    },
    {
     "data": {

      "text/plain": [
       "<Figure size 640x480 with 1 Axes>"
      ]
     },
     "metadata": {},
     "output_type": "display_data"
    }
   ],
   "source": [
    "## histograma considerando apenas o valor 'horsebean'\n",
    "srn.kdeplot(horsebean_var)"
   ]
  },
  {
   "cell_type": "code",

   "id": "d0643271",
   "metadata": {},
   "outputs": [
    {
     "data": {

      "text/plain": [
       "<Figure size 640x480 with 1 Axes>"
      ]
     },
     "metadata": {},
     "output_type": "display_data"
    }
   ],
   "source": [
    "tipos = list(set(dadosChicken['feed']))\n",
    "for i in tipos:\n",
    "    display = srn.kdeplot(dadosChicken['feed'] == i)\n",
    "    display"
   ]
  },
  {
   "cell_type": "code",

   "id": "fb6efbee",
   "metadata": {},
   "outputs": [
    {
     "data": {
      "text/plain": [
       "[Text(0.5, 1.0, 'Horsebean')]"
      ]
     },

     "metadata": {},
     "output_type": "execute_result"
    },
    {
     "data": {

      "text/plain": [
       "<Figure size 640x480 with 1 Axes>"
      ]
     },
     "metadata": {},
     "output_type": "display_data"
    }
   ],
   "source": [
    "srn.histplot(dadosChicken.loc[dadosChicken['feed'] == 'horsebean'], kde='False').set(title='Horsebean')"
   ]
  },
  {
   "cell_type": "code",

   "id": "fab3feaf",
   "metadata": {},
   "outputs": [
    {
     "data": {
      "text/plain": [
       "[Text(0.5, 1.0, 'sunflowers')]"
      ]
     },

     "metadata": {},
     "output_type": "execute_result"
    },
    {
     "data": {

      "text/plain": [
       "<Figure size 640x480 with 2 Axes>"
      ]
     },
     "metadata": {},
     "output_type": "display_data"
    }
   ],
   "source": [
    "## Visualizar todos os graficos\n",
    "\n",
    "plt.figure()\n",
    "plt.subplot(3,2,1)\n",
    "srn.histplot(dadosChicken.loc[dadosChicken['feed'] == 'horsebean']).set(title='horsebean')\n",
    "plt.subplot(3,2,2)\n",
    "srn.histplot(dadosChicken.loc[dadosChicken['feed'] == 'sunflower']).set(title='sunflowers')"
   ]
  },
  {
   "cell_type": "code",

   "metadata": {},
   "outputs": [
    {
     "data": {

      ]
     },
     "metadata": {},
     "output_type": "display_data"
    }
   ],
   "source": [

   ]
  }
 ],
 "metadata": {
  "kernelspec": {
   "display_name": "Python 3 (ipykernel)",
   "language": "python",
   "name": "python3"
  },
  "language_info": {
   "codemirror_mode": {
    "name": "ipython",
    "version": 3
   },
   "file_extension": ".py",
   "mimetype": "text/x-python",
   "name": "python",
   "nbconvert_exporter": "python",
   "pygments_lexer": "ipython3",
   "version": "3.11.5"
  }
 },
 "nbformat": 4,
 "nbformat_minor": 5
}
