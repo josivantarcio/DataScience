{
 "cells": [
  {
   "cell_type": "code",
   "execution_count": 3,
   "id": "f957186d",
   "metadata": {},
   "outputs": [],
   "source": [
    "import pandas as pd\n",
    "import seaborn as srn\n",
    "import matplotlib.pyplot as plt"
   ]
  },
  {
   "cell_type": "code",
   "execution_count": 4,
   "id": "da5e54ce",
   "metadata": {},
   "outputs": [
    {
     "data": {
      "text/html": [
       "<div>\n",
       "<style scoped>\n",
       "    .dataframe tbody tr th:only-of-type {\n",
       "        vertical-align: middle;\n",
       "    }\n",
       "\n",
       "    .dataframe tbody tr th {\n",
       "        vertical-align: top;\n",
       "    }\n",
       "\n",
       "    .dataframe thead th {\n",
       "        text-align: right;\n",
       "    }\n",
       "</style>\n",
       "<table border=\"1\" class=\"dataframe\">\n",
       "  <thead>\n",
       "    <tr style=\"text-align: right;\">\n",
       "      <th></th>\n",
       "      <th>Girth</th>\n",
       "      <th>Height</th>\n",
       "      <th>Volume</th>\n",
       "    </tr>\n",
       "  </thead>\n",
       "  <tbody>\n",
       "    <tr>\n",
       "      <th>0</th>\n",
       "      <td>8.3</td>\n",
       "      <td>70</td>\n",
       "      <td>10.3</td>\n",
       "    </tr>\n",
       "    <tr>\n",
       "      <th>1</th>\n",
       "      <td>8.6</td>\n",
       "      <td>65</td>\n",
       "      <td>10.3</td>\n",
       "    </tr>\n",
       "    <tr>\n",
       "      <th>2</th>\n",
       "      <td>8.8</td>\n",
       "      <td>63</td>\n",
       "      <td>10.2</td>\n",
       "    </tr>\n",
       "    <tr>\n",
       "      <th>3</th>\n",
       "      <td>10.5</td>\n",
       "      <td>72</td>\n",
       "      <td>16.4</td>\n",
       "    </tr>\n",
       "    <tr>\n",
       "      <th>4</th>\n",
       "      <td>10.7</td>\n",
       "      <td>81</td>\n",
       "      <td>18.8</td>\n",
       "    </tr>\n",
       "  </tbody>\n",
       "</table>\n",
       "</div>"
      ],
      "text/plain": [
       "   Girth  Height  Volume\n",
       "0    8.3      70    10.3\n",
       "1    8.6      65    10.3\n",
       "2    8.8      63    10.2\n",
       "3   10.5      72    16.4\n",
       "4   10.7      81    18.8"
      ]
     },
     "execution_count": 4,
     "metadata": {},
     "output_type": "execute_result"
    }
   ],
   "source": [
    "dados = pd.read_csv('trees.csv')\n",
    "dados.head()"
   ]
  },
  {
   "cell_type": "code",

   "execution_count": 5,
   "id": "0dac3e42",
   "metadata": {},
   "outputs": [
    {
     "data": {
      "text/plain": [
       "Text(0.5, 1.0, 'Árvores')"
      ]
     },

     "metadata": {},
     "output_type": "execute_result"
    },
    {
     "data": {
      "image/png": "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",
      "text/plain": [
       "<Figure size 640x480 with 1 Axes>"
      ]
     },
     "metadata": {},
     "output_type": "display_data"
    }
   ],
   "source": [
    "## histograma com 10 divisoes(bins)e com gráfico de densidade (kernel density - suavização)\n",
    "## stat: count, frequency, probability, percent, density\n",
    "\n",
    "srn.histplot(dados.Volume, bins=10, kde=True, stat='percent').set_title(\"Árvores\")"
   ]
  },
  {
   "cell_type": "code",

   "id": "9eed2533",
   "metadata": {},
   "outputs": [
    {
     "data": {
      "text/html": [
       "<div>\n",
       "<style scoped>\n",
       "    .dataframe tbody tr th:only-of-type {\n",
       "        vertical-align: middle;\n",
       "    }\n",
       "\n",
       "    .dataframe tbody tr th {\n",
       "        vertical-align: top;\n",
       "    }\n",
       "\n",
       "    .dataframe thead th {\n",
       "        text-align: right;\n",
       "    }\n",
       "</style>\n",
       "<table border=\"1\" class=\"dataframe\">\n",
       "  <thead>\n",
       "    <tr style=\"text-align: right;\">\n",
       "      <th></th>\n",
       "      <th>weight</th>\n",
       "      <th>feed</th>\n",
       "    </tr>\n",
       "  </thead>\n",
       "  <tbody>\n",
       "    <tr>\n",
       "      <th>0</th>\n",
       "      <td>179</td>\n",
       "      <td>horsebean</td>\n",
       "    </tr>\n",
       "    <tr>\n",
       "      <th>1</th>\n",
       "      <td>160</td>\n",
       "      <td>horsebean</td>\n",
       "    </tr>\n",
       "    <tr>\n",
       "      <th>2</th>\n",
       "      <td>136</td>\n",
       "      <td>horsebean</td>\n",
       "    </tr>\n",
       "    <tr>\n",
       "      <th>3</th>\n",
       "      <td>227</td>\n",
       "      <td>horsebean</td>\n",
       "    </tr>\n",
       "    <tr>\n",
       "      <th>4</th>\n",
       "      <td>217</td>\n",
       "      <td>horsebean</td>\n",
       "    </tr>\n",
       "  </tbody>\n",
       "</table>\n",
       "</div>"
      ],
      "text/plain": [
       "   weight       feed\n",
       "0     179  horsebean\n",
       "1     160  horsebean\n",
       "2     136  horsebean\n",
       "3     227  horsebean\n",
       "4     217  horsebean"
      ]
     },

     "metadata": {},
     "output_type": "execute_result"
    }
   ],
   "source": [
    "dadosChicken = pd.read_csv('chicken.csv')\n",
    "dadosChicken.head()"
   ]
  },
  {
   "cell_type": "code",

   "id": "97df6a3e",
   "metadata": {},
   "outputs": [
    {
     "data": {
      "text/plain": [
       "feed\n",
       "casein       3883\n",
       "horsebean    1602\n",
       "linseed      2625\n",
       "meatmeal     3046\n",
       "soybean      3450\n",
       "sunflower    3947\n",
       "Name: weight, dtype: int64"
      ]
     },

     "metadata": {},
     "output_type": "execute_result"
    }
   ],
   "source": [
    "agruparFeed = dadosChicken.groupby(['feed'])['weight'].sum()\n",
    "agruparFeed"
   ]
  },
  {
   "cell_type": "code",
   "execution_count": 31,
   "id": "019a3087",
   "metadata": {},
   "outputs": [
    {
     "data": {
      "text/html": [
       "<div>\n",
       "<style scoped>\n",
       "    .dataframe tbody tr th:only-of-type {\n",
       "        vertical-align: middle;\n",
       "    }\n",
       "\n",
       "    .dataframe tbody tr th {\n",
       "        vertical-align: top;\n",
       "    }\n",
       "\n",
       "    .dataframe thead th {\n",
       "        text-align: right;\n",
       "    }\n",
       "</style>\n",
       "<table border=\"1\" class=\"dataframe\">\n",
       "  <thead>\n",
       "    <tr style=\"text-align: right;\">\n",
       "      <th></th>\n",
       "      <th>weight</th>\n",
       "      <th>feed</th>\n",
       "    </tr>\n",
       "  </thead>\n",
       "  <tbody>\n",
       "    <tr>\n",
       "      <th>0</th>\n",
       "      <td>179</td>\n",
       "      <td>horsebean</td>\n",
       "    </tr>\n",
       "    <tr>\n",
       "      <th>1</th>\n",
       "      <td>160</td>\n",
       "      <td>horsebean</td>\n",
       "    </tr>\n",
       "    <tr>\n",
       "      <th>2</th>\n",
       "      <td>136</td>\n",
       "      <td>horsebean</td>\n",
       "    </tr>\n",
       "    <tr>\n",
       "      <th>3</th>\n",
       "      <td>227</td>\n",
       "      <td>horsebean</td>\n",
       "    </tr>\n",
       "    <tr>\n",
       "      <th>4</th>\n",
       "      <td>217</td>\n",
       "      <td>horsebean</td>\n",
       "    </tr>\n",
       "    <tr>\n",
       "      <th>5</th>\n",
       "      <td>168</td>\n",
       "      <td>horsebean</td>\n",
       "    </tr>\n",
       "    <tr>\n",
       "      <th>6</th>\n",
       "      <td>108</td>\n",
       "      <td>horsebean</td>\n",
       "    </tr>\n",
       "    <tr>\n",
       "      <th>7</th>\n",
       "      <td>124</td>\n",
       "      <td>horsebean</td>\n",
       "    </tr>\n",
       "    <tr>\n",
       "      <th>8</th>\n",
       "      <td>143</td>\n",
       "      <td>horsebean</td>\n",
       "    </tr>\n",
       "    <tr>\n",
       "      <th>9</th>\n",
       "      <td>140</td>\n",
       "      <td>horsebean</td>\n",
       "    </tr>\n",
       "  </tbody>\n",
       "</table>\n",
       "</div>"
      ],
      "text/plain": [
       "   weight       feed\n",
       "0     179  horsebean\n",
       "1     160  horsebean\n",
       "2     136  horsebean\n",
       "3     227  horsebean\n",
       "4     217  horsebean\n",
       "5     168  horsebean\n",
       "6     108  horsebean\n",
       "7     124  horsebean\n",
       "8     143  horsebean\n",
       "9     140  horsebean"
      ]
     },
     "execution_count": 31,
     "metadata": {},
     "output_type": "execute_result"
    }
   ],
   "source": [
    "##Novo dataframe para filtrar somente os dados do pandas\n",
    "horsebean_var = dadosChicken.loc[dadosChicken['feed'] == 'horsebean']\n",
    "horsebean_var"
   ]
  },
  {
   "cell_type": "code",

   "id": "d9cda2ac",
   "metadata": {},
   "outputs": [
    {

    }
   ],
   "source": [
    "## histograma considerando apenas o valor 'horsebean'\n",
    "srn.kdeplot(horsebean_var)"
   ]
  },
  {
   "cell_type": "code",

   "id": "d0643271",
   "metadata": {},
   "outputs": [
    {
     "data": {

      "text/plain": [
       "<Figure size 640x480 with 1 Axes>"
      ]
     },
     "metadata": {},
     "output_type": "display_data"
    }
   ],
   "source": [
    "tipos = list(set(dadosChicken['feed']))\n",
    "for i in tipos:\n",
    "    display = srn.kdeplot(dadosChicken['feed'] == i)\n",
    "    display"
   ]
  },
  {
   "cell_type": "code",

   "id": "fb6efbee",
   "metadata": {},
   "outputs": [
    {
     "data": {
      "text/plain": [
       "[Text(0.5, 1.0, 'Horsebean')]"
      ]
     },

     "metadata": {},
     "output_type": "execute_result"
    },
    {
     "data": {
      "image/png": "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",
      "text/plain": [
       "<Figure size 640x480 with 1 Axes>"
      ]
     },
     "metadata": {},
     "output_type": "display_data"
    }
   ],
   "source": [
    "srn.histplot(dadosChicken.loc[dadosChicken['feed'] == 'horsebean'], kde='False').set(title='Horsebean')"
   ]
  },
  {
   "cell_type": "code",

   "id": "fab3feaf",
   "metadata": {},
   "outputs": [
    {
     "data": {
      "text/plain": [
       "[Text(0.5, 1.0, 'sunflowers')]"
      ]
     },

     "metadata": {},
     "output_type": "execute_result"
    },
    {
     "data": {
      "image/png": "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",
      "text/plain": [
       "<Figure size 640x480 with 2 Axes>"
      ]
     },
     "metadata": {},
     "output_type": "display_data"
    }
   ],
   "source": [
    "## Visualizar todos os graficos\n",
    "\n",
    "plt.figure()\n",
    "plt.subplot(3,2,1)\n",
    "srn.histplot(dadosChicken.loc[dadosChicken['feed'] == 'horsebean']).set(title='horsebean')\n",
    "plt.subplot(3,2,2)\n",
    "srn.histplot(dadosChicken.loc[dadosChicken['feed'] == 'sunflower']).set(title='sunflowers')"
   ]
  },
  {
   "cell_type": "code",

   "metadata": {},
   "outputs": [
    {
     "data": {

      ]
     },
     "metadata": {},
     "output_type": "display_data"
    }
   ],
   "source": [

   ]
  }
 ],
 "metadata": {
  "kernelspec": {
   "display_name": "Python 3 (ipykernel)",
   "language": "python",
   "name": "python3"
  },
  "language_info": {
   "codemirror_mode": {
    "name": "ipython",
    "version": 3
   },
   "file_extension": ".py",
   "mimetype": "text/x-python",
   "name": "python",
   "nbconvert_exporter": "python",
   "pygments_lexer": "ipython3",
   "version": "3.11.5"
  }
 },
 "nbformat": 4,
 "nbformat_minor": 5
}
