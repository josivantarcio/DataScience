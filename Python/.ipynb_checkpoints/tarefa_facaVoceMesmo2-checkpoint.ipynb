{
 "cells": [
  {
   "cell_type": "code",
   "execution_count": null,
   "id": "e75ed046",
   "metadata": {},
   "outputs": [],
   "source": [
    "'''\n",
    "1. Faça um programa que tenha uma função chamada amplitude. A função deve receber uma lista e\n",
    "imprimir a amplitude.\n",
    "Crie também um código para testar sua função\n",
    "'''"
   ]
  },
  {
   "cell_type": "code",
   "execution_count": 2,
   "id": "6f07bada",
   "metadata": {},
   "outputs": [
    {
     "name": "stdout",
     "output_type": "stream",
     "text": [
      "O maior é 558\n",
      "O menor é 2\n"
     ]
    }
   ],
   "source": [
    "def ampliture(lst):\n",
    "    print(f'O maior é {max(lst)}')\n",
    "    print(f'O menor é {min(lst)}')\n",
    "    \n",
    "x = [2,5,6,558,45,10,7,9]\n",
    "ampliture(x)\n",
    "    "
   ]
  },
  {
   "cell_type": "code",
   "execution_count": null,
   "id": "cb418c26",
   "metadata": {},
   "outputs": [],
   "source": [
    "'''\n",
    "2. Faça uma função que receba uma string e imprima esta string na forma vertical\n",
    "'''"
   ]
  },
  {
   "cell_type": "code",
   "execution_count": 4,
   "id": "a97b7229",
   "metadata": {},
   "outputs": [
    {
     "name": "stdout",
     "output_type": "stream",
     "text": [
      "J\n",
      "o\n",
      "s\n",
      "e\n",
      "v\n",
      "a\n",
      "n\n",
      " \n",
      "O\n",
      "l\n",
      "i\n",
      "v\n",
      "e\n",
      "i\n",
      "r\n",
      "a\n"
     ]
    }
   ],
   "source": [
    "def prinVertical(nome):\n",
    "    for i in nome:\n",
    "        print(i)\n",
    "        \n",
    "prinVertical('Josevan Oliveira')"
   ]
  },
  {
   "cell_type": "code",
   "execution_count": null,
   "id": "d15e4e0b",
   "metadata": {},
   "outputs": [],
   "source": [
    "'''\n",
    "3. Crie um programa que leia o peso de uma carga em números inteiros. Se o peso for até 10 kg, informe\n",
    "que o valor será de R$ 50,00. Entre 11 e 20 kg, informe que o valor será de R$ 80. Se for maior que 20\n",
    "informe que o transporte não é aceito. Teste vários pesos.\n",
    "'''"
   ]
  },
  {
   "cell_type": "code",
   "execution_count": 22,
   "id": "635dbe3c",
   "metadata": {},
   "outputs": [
    {
     "name": "stdout",
     "output_type": "stream",
     "text": [
      "Peso da Carga: 10.01\n",
      "Valor pago: R$50,00\n",
      "10\n"
     ]
    }
   ],
   "source": [
    "peso = input('Peso da Carga: ')\n",
    "peso = int(round(float(peso),0))\n",
    "\n",
    "if(peso <= 10):\n",
    "    print('Valor pago: R$50,00')\n",
    "elif(peso >= 10 and peso <= 20):\n",
    "    print('Valor pago: R$80,00')\n",
    "elif(peso > 20):\n",
    "    print('O Transporte da Carga não é aceita')\n",
    "print(peso)"
   ]
  }
 ],
 "metadata": {
  "kernelspec": {
   "display_name": "Python 3 (ipykernel)",
   "language": "python",
   "name": "python3"
  },
  "language_info": {
   "codemirror_mode": {
    "name": "ipython",
    "version": 3
   },
   "file_extension": ".py",
   "mimetype": "text/x-python",
   "name": "python",
   "nbconvert_exporter": "python",
   "pygments_lexer": "ipython3",
   "version": "3.11.5"
  }
 },
 "nbformat": 4,
 "nbformat_minor": 5
}
