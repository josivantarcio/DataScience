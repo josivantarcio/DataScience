{
 "cells": [
  {
   "cell_type": "code",
   "execution_count": 1,
   "id": "193fba20",
   "metadata": {},
   "outputs": [],
   "source": [
    "import numpy as np"
   ]
  },
  {
   "cell_type": "code",
   "execution_count": 4,
   "id": "54878f6e",
   "metadata": {},
   "outputs": [
    {
     "name": "stdout",
     "output_type": "stream",
     "text": [
      "[11 15 65 42 97]\n",
      "<class 'numpy.ndarray'>\n"
     ]
    }
   ],
   "source": [
    "lst = [11,15,65,42,97]\n",
    "mt = np.array(lst)\n",
    "print(mt)\n",
    "print(type(mt))\n"
   ]
  },
  {
   "cell_type": "code",
   "execution_count": 5,
   "id": "ca2aeec8",
   "metadata": {},
   "outputs": [
    {
     "name": "stdout",
     "output_type": "stream",
     "text": [
      "[1. 2. 3.]\n",
      "<class 'numpy.ndarray'>\n"
     ]
    }
   ],
   "source": [
    "mtflot = np.array([1,2,3], dtype = np.float64)\n",
    "print(mtflot)\n",
    "print(type(mtflot))\n"
   ]
  },
  {
   "cell_type": "code",
   "execution_count": 7,
   "id": "731d8c76",
   "metadata": {},
   "outputs": [
    {
     "name": "stdout",
     "output_type": "stream",
     "text": [
      "[1 2 3]\n",
      "<class 'numpy.ndarray'>\n"
     ]
    }
   ],
   "source": [
    "mtint = np.array([1,2,3], dtype = np.int32)\n",
    "print(mtint)\n",
    "print(type(mtint))"
   ]
  },
  {
   "cell_type": "code",
   "execution_count": 9,
   "id": "1c9f34b3",
   "metadata": {},
   "outputs": [
    {
     "name": "stdout",
     "output_type": "stream",
     "text": [
      "[ 1.4     3.6    -5.1     9.42    4.9999]\n",
      "[ 1  3 -5  9  4]\n"
     ]
    }
   ],
   "source": [
    "mtflo = np.array([1.4, 3.6, -5.1, 9.42, 4.9999])\n",
    "print(mtflo)\n",
    "\n",
    "mtint = mtflo.astype(np.int32)\n",
    "print(mtint)"
   ]
  },
  {
   "cell_type": "code",
   "execution_count": 13,
   "id": "1af90a6b",
   "metadata": {},
   "outputs": [
    {
     "name": "stdout",
     "output_type": "stream",
     "text": [
      "[ 2  5 67  9  6]\n",
      "[ 2.  5. 67.  9.  6.]\n"
     ]
    }
   ],
   "source": [
    "mt5 = np.array([2,5,67,9,6])\n",
    "print(mt5)\n",
    "mt6 = mt5.astype(np.float64)\n",
    "print(mt6)"
   ]
  },
  {
   "cell_type": "code",
   "execution_count": 16,
   "id": "37fcfd18",
   "metadata": {},
   "outputs": [
    {
     "name": "stdout",
     "output_type": "stream",
     "text": [
      "[[25 10  9]\n",
      " [12 21 79]\n",
      " [61 22 69]]\n"
     ]
    }
   ],
   "source": [
    "mt7 = np.array([[25,10,9],[12,21,79],[61,22,69]])\n",
    "print(mt7)"
   ]
  },
  {
   "cell_type": "code",
   "execution_count": 58,
   "id": "80eae40a",
   "metadata": {},
   "outputs": [
    {
     "name": "stdout",
     "output_type": "stream",
     "text": [
      "[[       51317870               0]\n",
      " [139987172573552 139987172439632]\n",
      " [139987172523824 139987172415040]]\n"
     ]
    }
   ],
   "source": [
    "vazia = np.empty([3,2],dtype = int)\n",
    "print(vazia)"
   ]
  },
  {
   "cell_type": "code",
   "execution_count": 67,
   "id": "5e539274",
   "metadata": {},
   "outputs": [
    {
     "name": "stdout",
     "output_type": "stream",
     "text": [
      "[[0. 0.]\n",
      " [0. 0.]\n",
      " [0. 0.]]\n"
     ]
    }
   ],
   "source": [
    "zerado = np.zeros([3,2])\n",
    "print(zerado)"
   ]
  },
  {
   "cell_type": "code",
   "execution_count": 70,
   "id": "e7154ac9",
   "metadata": {},
   "outputs": [
    {
     "name": "stdout",
     "output_type": "stream",
     "text": [
      "[[1. 1.]\n",
      " [1. 1.]\n",
      " [1. 1.]]\n"
     ]
    }
   ],
   "source": [
    "un = np.ones([3,2])\n",
    "print(un)"
   ]
  },
  {
   "cell_type": "code",
   "execution_count": 77,
   "id": "e5224634",
   "metadata": {},
   "outputs": [
    {
     "name": "stdout",
     "output_type": "stream",
     "text": [
      "[[1. 0. 0. 0. 0.]\n",
      " [0. 1. 0. 0. 0.]\n",
      " [0. 0. 1. 0. 0.]\n",
      " [0. 0. 0. 1. 0.]\n",
      " [0. 0. 0. 0. 1.]]\n"
     ]
    }
   ],
   "source": [
    "diagonal = np.eye(5)\n",
    "print(diagonal)"
   ]
  },
  {
   "cell_type": "code",
   "execution_count": 108,
   "id": "6351b9ff",
   "metadata": {},
   "outputs": [
    {
     "name": "stdout",
     "output_type": "stream",
     "text": [
      "8\n"
     ]
    }
   ],
   "source": [
    "aleatorio = np.random.randint(20)\n",
    "print(aleatorio)"
   ]
  },
  {
   "cell_type": "code",
   "execution_count": 111,
   "id": "7307b20e",
   "metadata": {},
   "outputs": [
    {
     "name": "stdout",
     "output_type": "stream",
     "text": [
      "[ 0.77122167  1.53895288 -1.06020526 -2.061082    1.48722923]\n"
     ]
    }
   ],
   "source": [
    "ale2 = np.random.randn(5)\n",
    "print(ale2)"
   ]
  },
  {
   "cell_type": "code",
   "execution_count": 119,
   "id": "6d7fee4e",
   "metadata": {},
   "outputs": [
    {
     "name": "stdout",
     "output_type": "stream",
     "text": [
      "[[6.04432743 4.28456985 3.74994252 9.61431987]\n",
      " [5.45114043 5.77602538 8.83557645 6.3179066 ]\n",
      " [9.55761552 1.00293074 7.10031311 8.66838656]]\n",
      "[[6 4 3 9]\n",
      " [5 5 8 6]\n",
      " [9 1 7 8]]\n"
     ]
    }
   ],
   "source": [
    "ale3 = (10*np.random.random((3,4)))\n",
    "print(ale3)\n",
    "ale3Int = ale3.astype(int)\n",
    "print(ale3Int)"
   ]
  },
  {
   "cell_type": "code",
   "execution_count": 203,
   "id": "90d2a63d",
   "metadata": {},
   "outputs": [
    {
     "name": "stdout",
     "output_type": "stream",
     "text": [
      "Generator(PCG64)\n",
      "[0.51182162 0.9504637  0.14415961]\n"
     ]
    }
   ],
   "source": [
    "ale4 = np.random.default_rng(1)\n",
    "ale5 = ale4.random(3)\n",
    "print(ale4)\n",
    "print(ale5)"
   ]
  },
  {
   "cell_type": "code",
   "execution_count": 204,
   "id": "00972e8c",
   "metadata": {},
   "outputs": [
    {
     "name": "stdout",
     "output_type": "stream",
     "text": [
      "[[8 9 2 3]\n",
      " [8 4 2 8]\n",
      " [2 4 6 5]]\n"
     ]
    }
   ],
   "source": [
    "ale6 = ale4.integers(10, size=(3,4))\n",
    "print(ale6)"
   ]
  },
  {
   "cell_type": "code",
   "execution_count": 205,
   "id": "91187900",
   "metadata": {},
   "outputs": [
    {
     "name": "stdout",
     "output_type": "stream",
     "text": [
      "[ 3  4  5  6  7 10 12 13 14 15 44 66 76 78]\n"
     ]
    }
   ],
   "source": [
    "orga = np.array([12,13,13,14,15,7,78,76,66,6,6,5,44,4,3,10])\n",
    "orga = np.unique(orga)\n",
    "print(orga)"
   ]
  },
  {
   "cell_type": "code",
   "execution_count": 208,
   "id": "b206a2e2",
   "metadata": {},
   "outputs": [
    {
     "name": "stdout",
     "output_type": "stream",
     "text": [
      "(3, 3)\n"
     ]
    }
   ],
   "source": [
    "k = np.array([[12,15,18],[11,14,10],[9,5,40]])\n",
    "print(k.shape)"
   ]
  },
  {
   "cell_type": "code",
   "execution_count": 221,
   "id": "bee33e76",
   "metadata": {},
   "outputs": [
    {
     "name": "stdout",
     "output_type": "stream",
     "text": [
      "[ 6.  5.  9.  7. 12. 10.]\n"
     ]
    }
   ],
   "source": [
    "raiz =  [36,25,81,49,144,100]\n",
    "print(np.sqrt(raiz))"
   ]
  },
  {
   "cell_type": "code",
   "execution_count": 223,
   "id": "67653794",
   "metadata": {},
   "outputs": [
    {
     "name": "stdout",
     "output_type": "stream",
     "text": [
      "[[ 2  3]\n",
      " [ 4 13]]\n"
     ]
    }
   ],
   "source": [
    "n = np.array([[1,2],[3,4]])\n",
    "o = np.array([[1,1],[1,9]])\n",
    "print(n+o)"
   ]
  },
  {
   "cell_type": "code",
   "execution_count": 228,
   "id": "e0fce484",
   "metadata": {},
   "outputs": [
    {
     "name": "stdout",
     "output_type": "stream",
     "text": [
      "[[ 8 15]\n",
      " [24  5]\n",
      " [32 10]]\n"
     ]
    }
   ],
   "source": [
    "s = np.array(([2,3],[6,1],[8,2]))\n",
    "r = np.array(([4,5]))\n",
    "print(s*r)"
   ]
  },
  {
   "cell_type": "code",
   "execution_count": 248,
   "id": "b037daea",
   "metadata": {},
   "outputs": [
    {
     "name": "stdout",
     "output_type": "stream",
     "text": [
      "[[0 1 2]\n",
      " [3 4 5]\n",
      " [6 7 8]]\n",
      "[[0 3 6]\n",
      " [1 4 7]\n",
      " [2 5 8]]\n"
     ]
    }
   ],
   "source": [
    "sudoku = np.arange(9).reshape(3,3)\n",
    "print(sudoku)\n",
    "\n",
    "su = sudoku.T\n",
    "print(su)"
   ]
  },
  {
   "cell_type": "code",
   "execution_count": 250,
   "id": "b6a0eb2e",
   "metadata": {},
   "outputs": [
    {
     "name": "stdout",
     "output_type": "stream",
     "text": [
      "[[False False  True]\n",
      " [False False  True]\n",
      " [False  True  True]]\n"
     ]
    }
   ],
   "source": [
    "x = (su >=5)\n",
    "print(x)"
   ]
  },
  {
   "cell_type": "code",
   "execution_count": 254,
   "id": "37bcbc42",
   "metadata": {},
   "outputs": [
    {
     "name": "stdout",
     "output_type": "stream",
     "text": [
      "[[0 1 0]\n",
      " [1 0 1]\n",
      " [0 1 0]]\n"
     ]
    }
   ],
   "source": [
    "y = np.where(sudoku % 2 == 0, 0, 1)\n",
    "print(y)"
   ]
  }
 ],
 "metadata": {
  "kernelspec": {
   "display_name": "Python 3 (ipykernel)",
   "language": "python",
   "name": "python3"
  },
  "language_info": {
   "codemirror_mode": {
    "name": "ipython",
    "version": 3
   },
   "file_extension": ".py",
   "mimetype": "text/x-python",
   "name": "python",
   "nbconvert_exporter": "python",
   "pygments_lexer": "ipython3",
   "version": "3.11.5"
  }
 },
 "nbformat": 4,
 "nbformat_minor": 5
}
