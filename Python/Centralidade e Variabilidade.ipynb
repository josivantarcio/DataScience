{
 "cells": [
  {
   "cell_type": "code",
   "execution_count": null,
   "id": "8ba885ec",
   "metadata": {},
   "outputs": [],
   "source": [
    "# Medida de Centralidade e variabilidade"
   ]
  },
  {
   "cell_type": "code",
   "execution_count": 1,
   "id": "a5d01437",
   "metadata": {},
   "outputs": [],
   "source": [
    "import numpy as np\n",
    "from scipy import stats"
   ]
  },
  {
   "cell_type": "code",
   "execution_count": 15,
   "id": "1278155c",
   "metadata": {},
   "outputs": [
    {
     "data": {
      "text/plain": [
       "76111.11111111111"
      ]
     },
     "execution_count": 15,
     "metadata": {},
     "output_type": "execute_result"
    }
   ],
   "source": [
    "jogadores = [40000, 18000, 12000, 25000, 30000, 140000, 300000, 40000, 80000]\n",
    "np.mean(jogadores)"
   ]
  },
  {
   "cell_type": "code",
   "execution_count": 16,
   "id": "ef42192e",
   "metadata": {},
   "outputs": [
    {
     "data": {
      "text/plain": [
       "40000.0"
      ]
     },
     "execution_count": 16,
     "metadata": {},
     "output_type": "execute_result"
    }
   ],
   "source": [
    "np.median(jogadores)"
   ]
  },
  {
   "cell_type": "code",
   "execution_count": 20,
   "id": "7fea0c2c",
   "metadata": {},
   "outputs": [
    {
     "data": {
      "text/plain": [
       "array([ 12000.,  25000.,  40000.,  80000., 300000.])"
      ]
     },
     "execution_count": 20,
     "metadata": {},
     "output_type": "execute_result"
    }
   ],
   "source": [
    "quartis = np.quantile(jogadores, [0, 0.25, 0.50, 0.75, 1])\n",
    "quartis"
   ]
  },
  {
   "cell_type": "code",
   "execution_count": 18,
   "id": "d39ad794",
   "metadata": {},
   "outputs": [
    {
     "data": {
      "text/plain": [
       "92909.15515228364"
      ]
     },
     "execution_count": 18,
     "metadata": {},
     "output_type": "execute_result"
    }
   ],
   "source": [
    "np.std(jogadores, ddof=1)"
   ]
  },
  {
   "cell_type": "code",
   "execution_count": 19,
   "id": "df371ddc",
   "metadata": {},
   "outputs": [
    {
     "data": {
      "text/plain": [
       "DescribeResult(nobs=9, minmax=(12000, 300000), mean=76111.11111111111, variance=8632111111.111113, skewness=1.7685432724381958, kurtosis=1.8546461354874149)"
      ]
     },
     "execution_count": 19,
     "metadata": {},
     "output_type": "execute_result"
    }
   ],
   "source": [
    "stats.describe(jogadores)"
   ]
  }
 ],
 "metadata": {
  "kernelspec": {
   "display_name": "Python 3 (ipykernel)",
   "language": "python",
   "name": "python3"
  },
  "language_info": {
   "codemirror_mode": {
    "name": "ipython",
    "version": 3
   },
   "file_extension": ".py",
   "mimetype": "text/x-python",
   "name": "python",
   "nbconvert_exporter": "python",
   "pygments_lexer": "ipython3",
   "version": "3.11.5"
  }
 },
 "nbformat": 4,
 "nbformat_minor": 5
}
