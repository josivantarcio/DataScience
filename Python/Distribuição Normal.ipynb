{
 "cells": [
  {
   "cell_type": "code",
   "execution_count": null,
   "id": "e6d5ba75",
   "metadata": {},
   "outputs": [],
   "source": [
    "#Distribuição Normal"
   ]
  },
  {
   "cell_type": "code",
   "execution_count": 1,
   "id": "8f7b7753",
   "metadata": {},
   "outputs": [],
   "source": [
    "from scipy.stats import norm"
   ]
  },
  {
   "cell_type": "code",
   "execution_count": 2,
   "id": "514d8bec",
   "metadata": {},
   "outputs": [
    {
     "data": {
      "text/plain": [
       "0.15865525393145707"
      ]
     },
     "execution_count": 2,
     "metadata": {},
     "output_type": "execute_result"
    }
   ],
   "source": [
    "## probabilidade de tirar menor que 6\n",
    "norm.cdf(6,8,2)"
   ]
  },
  {
   "cell_type": "code",
   "execution_count": 3,
   "id": "42262e7d",
   "metadata": {},
   "outputs": [
    {
     "data": {
      "text/plain": [
       "0.8413447460685429"
      ]
     },
     "execution_count": 3,
     "metadata": {},
     "output_type": "execute_result"
    }
   ],
   "source": [
    "## probabilidade de tirar maior que 6 - modelo 1\n",
    "norm.sf(6,8,2)"
   ]
  },
  {
   "cell_type": "code",
   "execution_count": 5,
   "id": "f8d47e0c",
   "metadata": {},
   "outputs": [
    {
     "data": {
      "text/plain": [
       "0.8413447460685429"
      ]
     },
     "execution_count": 5,
     "metadata": {},
     "output_type": "execute_result"
    }
   ],
   "source": [
    "## ou usando o 1-cdf - modelo 2\n",
    "1 - norm.cdf(6,8,2)"
   ]
  },
  {
   "cell_type": "code",
   "execution_count": 6,
   "id": "5ec4ba6d",
   "metadata": {},
   "outputs": [
    {
     "data": {
      "text/plain": [
       "0.31731050786291415"
      ]
     },
     "execution_count": 6,
     "metadata": {},
     "output_type": "execute_result"
    }
   ],
   "source": [
    "## probabilidade de ser menor que 6 ou maior que 10\n",
    "norm.cdf(6,8,2) + norm.sf(10,8,2)"
   ]
  },
  {
   "cell_type": "code",
   "execution_count": 7,
   "id": "4ee0b73f",
   "metadata": {},
   "outputs": [
    {
     "data": {
      "text/plain": [
       "0.31731050786291415"
      ]
     },
     "execution_count": 7,
     "metadata": {},
     "output_type": "execute_result"
    }
   ],
   "source": [
    "norm.cdf(6,8,2) * 2"
   ]
  },
  {
   "cell_type": "code",
   "execution_count": 9,
   "id": "f621819f",
   "metadata": {},
   "outputs": [
    {
     "data": {
      "text/plain": [
       "0.3413447460685429"
      ]
     },
     "execution_count": 9,
     "metadata": {},
     "output_type": "execute_result"
    }
   ],
   "source": [
    "## probabilidade de ser maior que 8 e menor que 10\n",
    "norm.cdf(10,8,2) - norm.sf(8,8,2)"
   ]
  },
  {
   "cell_type": "code",
   "execution_count": 10,
   "id": "aa0609d0",
   "metadata": {},
   "outputs": [
    {
     "data": {
      "text/plain": [
       "0.3413447460685429"
      ]
     },
     "execution_count": 10,
     "metadata": {},
     "output_type": "execute_result"
    }
   ],
   "source": [
    "norm.cdf(10,8,2) - norm.cdf(8,8,2)"
   ]
  }
 ],
 "metadata": {
  "kernelspec": {
   "display_name": "Python 3 (ipykernel)",
   "language": "python",
   "name": "python3"
  },
  "language_info": {
   "codemirror_mode": {
    "name": "ipython",
    "version": 3
   },
   "file_extension": ".py",
   "mimetype": "text/x-python",
   "name": "python",
   "nbconvert_exporter": "python",
   "pygments_lexer": "ipython3",
   "version": "3.11.5"
  }
 },
 "nbformat": 4,
 "nbformat_minor": 5
}
