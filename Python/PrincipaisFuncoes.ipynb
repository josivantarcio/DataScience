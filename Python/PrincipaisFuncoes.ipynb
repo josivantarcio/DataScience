{
 "cells": [
  {
   "cell_type": "code",
   "execution_count": 8,
   "id": "33a10e89",
   "metadata": {},
   "outputs": [
    {
     "name": "stdout",
     "output_type": "stream",
     "text": [
      "215\n",
      "45\n",
      "1\n",
      "108\n",
      "125.13\n"
     ]
    }
   ],
   "source": [
    "#funções Internas:\n",
    "print(abs(-215))\n",
    "lst = [1,2,30,30,45]\n",
    "print(max(lst))\n",
    "print(min(lst))\n",
    "print(sum(lst))\n",
    "print(round(125.12548,2))"
   ]
  },
  {
   "cell_type": "code",
   "execution_count": 9,
   "id": "2b1a4e50",
   "metadata": {},
   "outputs": [
    {
     "name": "stdout",
     "output_type": "stream",
     "text": [
      "21.6\n",
      "30\n",
      "30\n"
     ]
    }
   ],
   "source": [
    "#import statistics as sta\n",
    "print(sta.mean(lst))\n",
    "print(sta.median(lst))\n",
    "print(sta.mode(lst))"
   ]
  },
  {
   "cell_type": "code",
   "execution_count": 10,
   "id": "0a3f9b61",
   "metadata": {},
   "outputs": [
    {
     "name": "stdout",
     "output_type": "stream",
     "text": [
      "19.346834366376324\n"
     ]
    }
   ],
   "source": [
    "#desvio Padrão\n",
    "print(sta.stdev(lst))"
   ]
  },
  {
   "cell_type": "code",
   "execution_count": 11,
   "id": "91fdbfc3",
   "metadata": {},
   "outputs": [
    {
     "name": "stdout",
     "output_type": "stream",
     "text": [
      "374.3\n"
     ]
    }
   ],
   "source": [
    "#variancia da lista\n",
    "print(sta.variance(lst))"
   ]
  },
  {
   "cell_type": "code",
   "execution_count": 19,
   "id": "cf692820",
   "metadata": {},
   "outputs": [
    {
     "name": "stdout",
     "output_type": "stream",
     "text": [
      "[[0.97613728 0.21167787 0.71994629 0.59588443 0.47873453 0.0090936\n",
      "  0.69621441 0.87065979]\n",
      " [0.84473578 0.2218528  0.33284189 0.31338413 0.21111544 0.30111891\n",
      "  0.95070149 0.14439938]\n",
      " [0.93281763 0.32004197 0.37497213 0.19013204 0.48675516 0.72580016\n",
      "  0.30889159 0.83778622]\n",
      " [0.61895672 0.06828786 0.59972707 0.58031322 0.17001658 0.75067352\n",
      "  0.30045406 0.0337035 ]\n",
      " [0.84318238 0.25454464 0.40665265 0.16879439 0.20036898 0.2057026\n",
      "  0.51590718 0.24081185]\n",
      " [0.83446823 0.2472515  0.7075275  0.70770799 0.59383387 0.45073072\n",
      "  0.53005302 0.24285072]\n",
      " [0.7043951  0.75017377 0.00617363 0.58657841 0.60724598 0.66565796\n",
      "  0.69711567 0.59811295]\n",
      " [0.2685559  0.19355991 0.18118155 0.42638764 0.60659628 0.28154692\n",
      "  0.10190737 0.82863134]]\n"
     ]
    },
    {
     "data": {
      "text/plain": [
       "numpy.ndarray"
      ]
     },
     "execution_count": 19,
     "metadata": {},
     "output_type": "execute_result"
    }
   ],
   "source": [
    "from numpy import *\n",
    "a = random.random((8,8))\n",
    "print(a)\n",
    "type(a)"
   ]
  }
 ],
 "metadata": {
  "kernelspec": {
   "display_name": "Python 3 (ipykernel)",
   "language": "python",
   "name": "python3"
  },
  "language_info": {
   "codemirror_mode": {
    "name": "ipython",
    "version": 3
   },
   "file_extension": ".py",
   "mimetype": "text/x-python",
   "name": "python",
   "nbconvert_exporter": "python",
   "pygments_lexer": "ipython3",
   "version": "3.11.5"
  }
 },
 "nbformat": 4,
 "nbformat_minor": 5
}
