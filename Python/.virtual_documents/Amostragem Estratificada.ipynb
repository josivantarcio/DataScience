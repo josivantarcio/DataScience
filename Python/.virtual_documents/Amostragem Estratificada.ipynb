import pandas as pd
from sklearn.model_selection import train_test_split


pip 


iris = pd.read_csv('iris.csv')
iris['class'].value_counts()
iris


x,y,z,k = train_test_split(iris.iloc[:,0:4], iris.iloc[:,4], test_size=0.5, stratify= iris.iloc[:,4])
k.value_counts()


infert = pd.read_csv('infert.csv')
infert['education'].value_counts()
infert


x1,x2,y1,y2 = train_test_split(infert.iloc[:,2:9], infert.iloc[:,1], test_size=0.6, stratify=infert.iloc[:,1])
y2.value_counts()


y1.value_counts()
