{
 "cells": [
  {
   "cell_type": "code",
   "execution_count": 4,
   "id": "6dcf14ea",
   "metadata": {},
   "outputs": [
    {
     "name": "stdout",
     "output_type": "stream",
     "text": [
      "Tente Novamente\n"
     ]
    }
   ],
   "source": [
    "nota = 7\n",
    "if (nota >= 7):\n",
    "    print('Aprovado')\n",
    "    print('Parabéns')\n",
    "else:\n",
    "    print('Tente Novamente')"
   ]
  },
  {
   "cell_type": "code",
   "execution_count": 8,
   "id": "8c321ab5",
   "metadata": {},
   "outputs": [
    {
     "name": "stdout",
     "output_type": "stream",
     "text": [
      "Aprovado\n"
     ]
    }
   ],
   "source": [
    "nota = 8\n",
    "if (nota <= 4):\n",
    "    print('Reprovado')\n",
    "elif(nota > 4 and nota <= 6):\n",
    "    print('Exame')\n",
    "else:\n",
    "    print('Aprovado')"
   ]
  }
 ],
 "metadata": {
  "kernelspec": {
   "display_name": "Python 3 (ipykernel)",
   "language": "python",
   "name": "python3"
  },
  "language_info": {
   "codemirror_mode": {
    "name": "ipython",
    "version": 3
   },
   "file_extension": ".py",
   "mimetype": "text/x-python",
   "name": "python",
   "nbconvert_exporter": "python",
   "pygments_lexer": "ipython3",
   "version": "3.11.5"
  }
 },
 "nbformat": 4,
 "nbformat_minor": 5
}
